{
  "nbformat": 4,
  "nbformat_minor": 0,
  "metadata": {
    "colab": {
      "name": "NLP Stemming.ipynb",
      "provenance": [],
      "authorship_tag": "ABX9TyPES24gb+E3jqxH9RtmwxoC",
      "include_colab_link": true
    },
    "kernelspec": {
      "name": "python3",
      "display_name": "Python 3"
    },
    "language_info": {
      "name": "python"
    }
  },
  "cells": [
    {
      "cell_type": "markdown",
      "metadata": {
        "id": "view-in-github",
        "colab_type": "text"
      },
      "source": [
        "<a href=\"https://colab.research.google.com/github/sivaramanrajagopal/myNLP60dayprogress/blob/main/NLP_Stemming.ipynb\" target=\"_parent\"><img src=\"https://colab.research.google.com/assets/colab-badge.svg\" alt=\"Open In Colab\"/></a>"
      ]
    },
    {
      "cell_type": "markdown",
      "source": [
        "Practicing Lemmatization using Spacy Library"
      ],
      "metadata": {
        "id": "ySEXydlJKOWl"
      }
    },
    {
      "cell_type": "code",
      "execution_count": null,
      "metadata": {
        "id": "sROzpjnZGhKh"
      },
      "outputs": [],
      "source": [
        "import spacy"
      ]
    },
    {
      "cell_type": "code",
      "source": [
        "nlp = spacy.load('en_core_web_sm')\n"
      ],
      "metadata": {
        "id": "jDpVYGFwGq-0"
      },
      "execution_count": null,
      "outputs": []
    },
    {
      "cell_type": "code",
      "source": [
        "doc1 = nlp(u'I am a runner running in a race because I love to run since I ran today')"
      ],
      "metadata": {
        "id": "L0rKfckZG14Y"
      },
      "execution_count": null,
      "outputs": []
    },
    {
      "cell_type": "code",
      "source": [
        "for token in doc1:\n",
        "  print(token.text,'\\t',token.pos,'\\t',token.lemma,'\\t',token.lemma_)"
      ],
      "metadata": {
        "colab": {
          "base_uri": "https://localhost:8080/"
        },
        "id": "uJYxvmIOHmjQ",
        "outputId": "cc3b679a-caec-4028-df98-a23d371c56d8"
      },
      "execution_count": null,
      "outputs": [
        {
          "output_type": "stream",
          "name": "stdout",
          "text": [
            "I \t 95 \t 561228191312463089 \t -PRON-\n",
            "am \t 87 \t 10382539506755952630 \t be\n",
            "a \t 90 \t 11901859001352538922 \t a\n",
            "runner \t 92 \t 12640964157389618806 \t runner\n",
            "running \t 100 \t 12767647472892411841 \t run\n",
            "in \t 85 \t 3002984154512732771 \t in\n",
            "a \t 90 \t 11901859001352538922 \t a\n",
            "race \t 92 \t 8048469955494714898 \t race\n",
            "because \t 98 \t 16950148841647037698 \t because\n",
            "I \t 95 \t 561228191312463089 \t -PRON-\n",
            "love \t 100 \t 3702023516439754181 \t love\n",
            "to \t 94 \t 3791531372978436496 \t to\n",
            "run \t 100 \t 12767647472892411841 \t run\n",
            "since \t 98 \t 10066841407251338481 \t since\n",
            "I \t 95 \t 561228191312463089 \t -PRON-\n",
            "ran \t 100 \t 12767647472892411841 \t run\n",
            "today \t 92 \t 11042482332948150395 \t today\n"
          ]
        }
      ]
    },
    {
      "cell_type": "markdown",
      "source": [
        "Beautifying lemma\n",
        "\n"
      ],
      "metadata": {
        "id": "j-UFQMeFIU6d"
      }
    },
    {
      "cell_type": "code",
      "source": [
        "def show_lemmas(text):\n",
        "  for token in text:\n",
        "    print(f'{token.text:{12}}{token.pos_:{6}}{token.lemma:<{22}}{token.lemma_}')"
      ],
      "metadata": {
        "id": "hBVvlZiGIe0M"
      },
      "execution_count": null,
      "outputs": []
    },
    {
      "cell_type": "code",
      "source": [
        "doc2 = nlp(u\"I saw ten mice today\")"
      ],
      "metadata": {
        "id": "_wcP3wPTRf9B"
      },
      "execution_count": null,
      "outputs": []
    },
    {
      "cell_type": "code",
      "source": [
        "show_lemmas(doc2)"
      ],
      "metadata": {
        "colab": {
          "base_uri": "https://localhost:8080/"
        },
        "id": "jiGr1rJ5RoMl",
        "outputId": "a6b97fac-2e43-4fc6-e9d7-9f6deb7a7a10"
      },
      "execution_count": null,
      "outputs": [
        {
          "output_type": "stream",
          "name": "stdout",
          "text": [
            "I           PRON  561228191312463089    -PRON-\n",
            "saw         VERB  11925638236994514241  see\n",
            "ten         NUM   7970704286052693043   ten\n",
            "mice        NOUN  1384165645700560590   mouse\n",
            "today       NOUN  11042482332948150395  today\n"
          ]
        }
      ]
    }
  ]
}