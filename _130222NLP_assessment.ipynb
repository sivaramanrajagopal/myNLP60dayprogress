{
  "nbformat": 4,
  "nbformat_minor": 0,
  "metadata": {
    "colab": {
      "name": "_130222NLP assessment.ipynb",
      "provenance": [],
      "collapsed_sections": [],
      "authorship_tag": "ABX9TyO3zkQT3Rieu4PjFtR0IHBg",
      "include_colab_link": true
    },
    "kernelspec": {
      "name": "python3",
      "display_name": "Python 3"
    },
    "language_info": {
      "name": "python"
    }
  },
  "cells": [
    {
      "cell_type": "markdown",
      "metadata": {
        "id": "view-in-github",
        "colab_type": "text"
      },
      "source": [
        "<a href=\"https://colab.research.google.com/github/sivaramanrajagopal/myNLP60dayprogress/blob/main/_130222NLP_assessment.ipynb\" target=\"_parent\"><img src=\"https://colab.research.google.com/assets/colab-badge.svg\" alt=\"Open In Colab\"/></a>"
      ]
    },
    {
      "cell_type": "code",
      "execution_count": 73,
      "metadata": {
        "id": "-5-oc3Y8kZhr"
      },
      "outputs": [],
      "source": [
        "import spacy\n",
        "nlp = spacy.load('en_core_web_sm')"
      ]
    },
    {
      "cell_type": "markdown",
      "source": [
        "Create a Doc object from file owl creek.txt"
      ],
      "metadata": {
        "id": "NM4fLheak3-p"
      }
    },
    {
      "cell_type": "code",
      "source": [
        "from google.colab import files\n",
        "upload = files.upload()"
      ],
      "metadata": {
        "colab": {
          "resources": {
            "http://localhost:8080/nbextensions/google.colab/files.js": {
              "data": "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",
              "ok": true,
              "headers": [
                [
                  "content-type",
                  "application/javascript"
                ]
              ],
              "status": 200,
              "status_text": ""
            }
          },
          "base_uri": "https://localhost:8080/",
          "height": 73
        },
        "id": "u2-60rGkkzJ1",
        "outputId": "be7c095e-e198-4b29-a0ad-d3d6c671ab18"
      },
      "execution_count": 74,
      "outputs": [
        {
          "output_type": "display_data",
          "data": {
            "text/html": [
              "\n",
              "     <input type=\"file\" id=\"files-91aa77e5-2949-4581-b90a-56d9b1fb9dcf\" name=\"files[]\" multiple disabled\n",
              "        style=\"border:none\" />\n",
              "     <output id=\"result-91aa77e5-2949-4581-b90a-56d9b1fb9dcf\">\n",
              "      Upload widget is only available when the cell has been executed in the\n",
              "      current browser session. Please rerun this cell to enable.\n",
              "      </output>\n",
              "      <script src=\"/nbextensions/google.colab/files.js\"></script> "
            ],
            "text/plain": [
              "<IPython.core.display.HTML object>"
            ]
          },
          "metadata": {}
        },
        {
          "output_type": "stream",
          "name": "stdout",
          "text": [
            "Saving owlcreek.txt to owlcreek (2).txt\n"
          ]
        }
      ]
    },
    {
      "cell_type": "code",
      "source": [
        "with open('owlcreek.txt','r') as f:\n",
        "    doc3 = nlp(f.read())"
      ],
      "metadata": {
        "id": "EcDB2_1PlvgM"
      },
      "execution_count": 75,
      "outputs": []
    },
    {
      "cell_type": "code",
      "source": [
        "doc3[:36]"
      ],
      "metadata": {
        "colab": {
          "base_uri": "https://localhost:8080/"
        },
        "id": "b9hBHuBOmcdv",
        "outputId": "52119931-2700-4b13-8339-db9c766f0a2c"
      },
      "execution_count": 76,
      "outputs": [
        {
          "output_type": "execute_result",
          "data": {
            "text/plain": [
              "AN OCCURRENCE AT OWL CREEK BRIDGE\n",
              "\n",
              "by Ambrose Bierce\n",
              "\n",
              "I\n",
              "\n",
              "A man stood upon a railroad bridge in northern Alabama, looking down\n",
              "into the swift water twenty feet below.  "
            ]
          },
          "metadata": {},
          "execution_count": 76
        }
      ]
    },
    {
      "cell_type": "markdown",
      "source": [
        "How Many Tokens are cotained in a file"
      ],
      "metadata": {
        "id": "U3xO4JWJmqts"
      }
    },
    {
      "cell_type": "code",
      "source": [
        "len(doc3)"
      ],
      "metadata": {
        "colab": {
          "base_uri": "https://localhost:8080/"
        },
        "id": "qI4JsrVfmtzt",
        "outputId": "ce2011e0-f790-46d1-f7bd-112560cf0057"
      },
      "execution_count": 77,
      "outputs": [
        {
          "output_type": "execute_result",
          "data": {
            "text/plain": [
              "4835"
            ]
          },
          "metadata": {},
          "execution_count": 77
        }
      ]
    },
    {
      "cell_type": "markdown",
      "source": [
        "To find how many sentences are there in the text file"
      ],
      "metadata": {
        "id": "qoGEvjuZoWm1"
      }
    },
    {
      "cell_type": "code",
      "source": [
        "sentcount = []\n",
        "for sentence in doc3.sents:\n",
        "  sentcount.append((sentence))\n",
        "len(sentcount)"
      ],
      "metadata": {
        "colab": {
          "base_uri": "https://localhost:8080/"
        },
        "id": "SkYpsUt2obJf",
        "outputId": "14141790-1548-4717-e5f6-9b807836b9c4"
      },
      "execution_count": 78,
      "outputs": [
        {
          "output_type": "execute_result",
          "data": {
            "text/plain": [
              "249"
            ]
          },
          "metadata": {},
          "execution_count": 78
        }
      ]
    },
    {
      "cell_type": "markdown",
      "source": [
        "To Print Second sentence in the Document"
      ],
      "metadata": {
        "id": "HVapzHQVuZnk"
      }
    },
    {
      "cell_type": "code",
      "source": [
        "print(sentcount[2])\n"
      ],
      "metadata": {
        "colab": {
          "base_uri": "https://localhost:8080/"
        },
        "id": "6fLzJkfOuyYp",
        "outputId": "97d175bd-da84-4bdf-ef03-72abe2ff13c8"
      },
      "execution_count": 79,
      "outputs": [
        {
          "output_type": "stream",
          "name": "stdout",
          "text": [
            "A man stood upon a railroad bridge in northern Alabama, looking down\n",
            "into the swift water twenty feet below.  \n"
          ]
        }
      ]
    },
    {
      "cell_type": "markdown",
      "source": [
        "For the above text print text,POS,lemma,dep,tag"
      ],
      "metadata": {
        "id": "ZygdvUWfvTAu"
      }
    },
    {
      "cell_type": "code",
      "source": [
        "for token in sentcount[2]:\n",
        "  print(token.text,'\\t',token.pos_,'\\t',token.tag_,'\\t',token.dep_,'\\t',token.lemma_)\n"
      ],
      "metadata": {
        "colab": {
          "base_uri": "https://localhost:8080/"
        },
        "id": "SV2oceyCvcg2",
        "outputId": "abaebd5c-67cc-4321-ddfc-da06042bf96f"
      },
      "execution_count": 80,
      "outputs": [
        {
          "output_type": "stream",
          "name": "stdout",
          "text": [
            "A \t DET \t DT \t det \t a\n",
            "man \t NOUN \t NN \t nsubj \t man\n",
            "stood \t VERB \t VBD \t ROOT \t stand\n",
            "upon \t SCONJ \t IN \t prep \t upon\n",
            "a \t DET \t DT \t det \t a\n",
            "railroad \t NOUN \t NN \t compound \t railroad\n",
            "bridge \t NOUN \t NN \t pobj \t bridge\n",
            "in \t ADP \t IN \t prep \t in\n",
            "northern \t ADJ \t JJ \t amod \t northern\n",
            "Alabama \t PROPN \t NNP \t pobj \t Alabama\n",
            ", \t PUNCT \t , \t punct \t ,\n",
            "looking \t VERB \t VBG \t advcl \t look\n",
            "down \t ADV \t RB \t prt \t down\n",
            "\n",
            " \t SPACE \t _SP \t  \t \n",
            "\n",
            "into \t ADP \t IN \t prep \t into\n",
            "the \t DET \t DT \t det \t the\n",
            "swift \t ADJ \t JJ \t amod \t swift\n",
            "water \t NOUN \t NN \t pobj \t water\n",
            "twenty \t NUM \t CD \t nummod \t twenty\n",
            "feet \t NOUN \t NNS \t npadvmod \t foot\n",
            "below \t ADV \t RB \t advmod \t below\n",
            ". \t PUNCT \t . \t punct \t .\n",
            "  \t SPACE \t _SP \t  \t  \n"
          ]
        }
      ]
    },
    {
      "cell_type": "markdown",
      "source": [
        "Write a matcher called swimming that find both occurrence of the phrase swimming vigooursly in the text"
      ],
      "metadata": {
        "id": "s1TAYaKRxTk3"
      }
    },
    {
      "cell_type": "code",
      "source": [
        "from spacy.matcher import Matcher\n",
        "matcher = Matcher(nlp.vocab)"
      ],
      "metadata": {
        "id": "guX2gb_4xfQF"
      },
      "execution_count": 81,
      "outputs": []
    },
    {
      "cell_type": "code",
      "source": [
        "#Create pattern and add it to matcher\n",
        "pattern1 = [{'LOWER':'swimming'}]\n",
        "pattern2 = [{'LOWER':'swimming'},{'IS_SPACE':True},{'LOWER':'Vigorously'}]\n"
      ],
      "metadata": {
        "id": "QiffGn3CySrW"
      },
      "execution_count": 82,
      "outputs": []
    },
    {
      "cell_type": "code",
      "source": [
        "matcher.add('Swim',None,pattern1,pattern2)"
      ],
      "metadata": {
        "id": "HMC0QyyO1Ef8"
      },
      "execution_count": 83,
      "outputs": []
    },
    {
      "cell_type": "code",
      "source": [
        "doc3"
      ],
      "metadata": {
        "colab": {
          "base_uri": "https://localhost:8080/"
        },
        "id": "73WgHWRs3zDg",
        "outputId": "99937091-9431-4011-ed34-ea4db4fbd9b9"
      },
      "execution_count": 84,
      "outputs": [
        {
          "output_type": "execute_result",
          "data": {
            "text/plain": [
              "AN OCCURRENCE AT OWL CREEK BRIDGE\n",
              "\n",
              "by Ambrose Bierce\n",
              "\n",
              "I\n",
              "\n",
              "A man stood upon a railroad bridge in northern Alabama, looking down\n",
              "into the swift water twenty feet below.  The man's hands were behind\n",
              "his back, the wrists bound with a cord.  A rope closely encircled his\n",
              "neck.  It was attached to a stout cross-timber above his head and the\n",
              "slack fell to the level of his knees.  Some loose boards laid upon the\n",
              "ties supporting the rails of the railway supplied a footing for him\n",
              "and his executioners--two private soldiers of the Federal army,\n",
              "directed by a sergeant who in civil life may have been a deputy\n",
              "sheriff.  At a short remove upon the same temporary platform was an\n",
              "officer in the uniform of his rank, armed.  He was a captain.  A\n",
              "sentinel at each end of the bridge stood with his rifle in the\n",
              "position known as \"support,\" that is to say, vertical in front of the\n",
              "left shoulder, the hammer resting on the forearm thrown straight\n",
              "across the chest--a formal and unnatural position, enforcing an erect\n",
              "carriage of the body.  It did not appear to be the duty of these two\n",
              "men to know what was occurring at the center of the bridge; they\n",
              "merely blockaded the two ends of the foot planking that traversed it.\n",
              "\n",
              "Beyond one of the sentinels nobody was in sight; the railroad ran\n",
              "straight away into a forest for a hundred yards, then, curving, was\n",
              "lost to view.  Doubtless there was an outpost farther along.  The\n",
              "other bank of the stream was open ground--a gentle slope topped with\n",
              "a stockade of vertical tree trunks, loopholed for rifles, with a\n",
              "single embrasure through which protruded the muzzle of a brass cannon\n",
              "commanding the bridge.  Midway up the slope between the bridge and\n",
              "fort were the spectators--a single company of infantry in line, at\n",
              "\"parade rest,\" the butts of their rifles on the ground, the barrels\n",
              "inclining slightly backward against the right shoulder, the hands\n",
              "crossed upon the stock. A lieutenant stood at the right of the line,\n",
              "the point of his sword upon the ground, his left hand resting upon his\n",
              "right.  Excepting the group of four at the center of the bridge, not a\n",
              "man moved.  The company faced the bridge, staring stonily, motionless.\n",
              "The sentinels, facing the banks of the stream, might have been statues\n",
              "to adorn the bridge.  The captain stood with folded arms, silent,\n",
              "observing the work of his subordinates, but making no sign. Death is a\n",
              "dignitary who when he comes announced is to be received with formal\n",
              "manifestations of respect, even by those most familiar with him.  In\n",
              "the code of military etiquette silence and fixity are forms of\n",
              "deference.\n",
              "\n",
              "The man who was engaged in being hanged was apparently about\n",
              "thirty-five years of age.  He was a civilian, if one might judge from\n",
              "his habit, which was that of a planter.  His features were good--a\n",
              "straight nose, firm mouth, broad forehead, from which his long, dark\n",
              "hair was combed straight back, falling behind his ears to the collar\n",
              "of his well fitting frock coat.  He wore a moustache and pointed\n",
              "beard, but no whiskers; his eyes were large and dark gray, and had a\n",
              "kindly expression which one would hardly have expected in one whose\n",
              "neck was in the hemp.  Evidently this was no vulgar assassin.  The\n",
              "liberal military code makes provision for hanging many kinds of\n",
              "persons, and gentlemen are not excluded.\n",
              "\n",
              "The preparations being complete, the two private soldiers stepped\n",
              "aside and each drew away the plank upon which he had been standing.\n",
              "The sergeant turned to the captain, saluted and placed himself\n",
              "immediately behind that officer, who in turn moved apart one pace.\n",
              "These movements left the condemned man and the sergeant standing on\n",
              "the two ends of the same plank, which spanned three of the cross-ties\n",
              "of the bridge.  The end upon which the civilian stood almost, but not\n",
              "quite, reached a fourth.  This plank had been held in place by the\n",
              "weight of the captain; it was now held by that of the sergeant.  At a\n",
              "signal from the former the latter would step aside, the plank would\n",
              "tilt and the condemned man go down between two ties.  The arrangement\n",
              "commended itself to his judgement as simple and effective.  His face\n",
              "had not been covered nor his eyes bandaged.  He looked a moment at his\n",
              "\"unsteadfast footing,\" then let his gaze wander to the swirling water\n",
              "of the stream racing madly beneath his feet. A piece of dancing\n",
              "driftwood caught his attention and his eyes followed it down the\n",
              "current.  How slowly it appeared to move!  What a sluggish stream!\n",
              "\n",
              "He closed his eyes in order to fix his last thoughts upon his wife and\n",
              "children.  The water, touched to gold by the early sun, the brooding\n",
              "mists under the banks at some distance down the stream, the fort, the\n",
              "soldiers, the piece of drift--all had distracted him.  And now he\n",
              "became conscious of a new disturbance.  Striking through the thought\n",
              "of his dear ones was sound which he could neither ignore nor\n",
              "understand, a sharp, distinct, metallic percussion like the stroke of\n",
              "a blacksmith's hammer upon the anvil; it had the same ringing quality.\n",
              "He wondered what it was, and whether immeasurably distant or near by--\n",
              "it seemed both.  Its recurrence was regular, but as slow as the\n",
              "tolling of a death knell.  He awaited each new stroke with impatience\n",
              "and--he knew not why--apprehension.  The intervals of silence grew\n",
              "progressively longer; the delays became maddening.  With their greater\n",
              "infrequency the sounds increased in strength and sharpness.  They hurt\n",
              "his ear like the thrust of a knife; he feared he would shriek.  What he\n",
              "heard was the ticking of his watch.\n",
              "\n",
              "He unclosed his eyes and saw again the water below him.  \"If I could\n",
              "free my hands,\" he thought, \"I might throw off the noose and spring\n",
              "into the stream.  By diving I could evade the bullets and, swimming\n",
              "vigorously, reach the bank, take to the woods and get away home.  My\n",
              "home, thank God, is as yet outside their lines; my wife and little\n",
              "ones are still beyond the invader's farthest advance.\"\n",
              "\n",
              "As these thoughts, which have here to be set down in words, were\n",
              "flashed into the doomed man's brain rather than evolved from it the\n",
              "captain nodded to the sergeant.  The sergeant stepped aside.\n",
              "\n",
              "II\n",
              "\n",
              "Peyton Farquhar was a well to do planter, of an old and highly\n",
              "respected Alabama family.  Being a slave owner and like other slave\n",
              "owners a politician, he was naturally an original secessionist and\n",
              "ardently devoted to the Southern cause.  Circumstances of an imperious\n",
              "nature, which it is unnecessary to relate here, had prevented him from\n",
              "taking service with that gallant army which had fought the disastrous\n",
              "campaigns ending with the fall of Corinth, and he chafed under the\n",
              "inglorious restraint, longing for the release of his energies, the\n",
              "larger life of the soldier, the opportunity for distinction.  That\n",
              "opportunity, he felt, would come, as it comes to all in wartime.\n",
              "Meanwhile he did what he could.  No service was too humble for him to\n",
              "perform in the aid of the South, no adventure too perilous for him to\n",
              "undertake if consistent with the character of a civilian who was at\n",
              "heart a soldier, and who in good faith and without too much\n",
              "qualification assented to at least a part of the frankly villainous\n",
              "dictum that all is fair in love and war.\n",
              "\n",
              "One evening while Farquhar and his wife were sitting on a rustic bench\n",
              "near the entrance to his grounds, a gray-clad soldier rode up to the\n",
              "gate and asked for a drink of water. Mrs. Farquhar was only too happy\n",
              "to serve him with her own white hands.  While she was fetching the\n",
              "water her husband approached the dusty horseman and inquired eagerly\n",
              "for news from the front.\n",
              "\n",
              "\"The Yanks are repairing the railroads,\" said the man, \"and are\n",
              "getting ready for another advance.  They have reached the Owl Creek\n",
              "bridge, put it in order and built a stockade on the north bank.  The\n",
              "commandant has issued an order, which is posted everywhere, declaring\n",
              "that any civilian caught interfering with the railroad, its bridges,\n",
              "tunnels, or trains will be summarily hanged.  I saw the order.\"\n",
              "\n",
              "\"How far is it to the Owl Creek bridge?\" Farquhar asked.\n",
              "\n",
              "\"About thirty miles.\"\n",
              "\n",
              "\"Is there no force on this side of the creek?\"\n",
              "\n",
              "\"Only a picket post half a mile out, on the railroad, and a single\n",
              "sentinel at this end of the bridge.\"\n",
              "\n",
              "\"Suppose a man--a civilian and student of hanging--should elude the\n",
              "picket post and perhaps get the better of the sentinel,\" said\n",
              "Farquhar, smiling, \"what could he accomplish?\"\n",
              "\n",
              "The soldier reflected.  \"I was there a month ago,\" he replied.  \"I\n",
              "observed that the flood of last winter had lodged a great quantity of\n",
              "driftwood against the wooden pier at this end of the bridge.  It is\n",
              "now dry and would burn like tinder.\"\n",
              "\n",
              "The lady had now brought the water, which the soldier drank. He\n",
              "thanked her ceremoniously, bowed to her husband and rode away.  An\n",
              "hour later, after nightfall, he repassed the plantation, going\n",
              "northward in the direction from which he had come.  He was a Federal\n",
              "scout.\n",
              "\n",
              "III\n",
              "\n",
              "As Peyton Farquhar fell straight downward through the bridge he lost\n",
              "consciousness and was as one already dead. From this state he was\n",
              "awakened--ages later, it seemed to him--by the pain of a sharp\n",
              "pressure upon his throat, followed by a sense of suffocation.  Keen,\n",
              "poignant agonies seemed to shoot from his neck downward through every\n",
              "fiber of his body and limbs.  These pains appeared to flash along well\n",
              "defined lines of ramification and to beat with an inconceivably rapid\n",
              "periodicity.  They seemed like streams of pulsating fire heating him\n",
              "to an intolerable temperature.  As to his head, he was conscious of\n",
              "nothing but a feeling of fullness--of congestion.  These sensations\n",
              "were unaccompanied by thought.  The intellectual part of his nature\n",
              "was already effaced; he had power only to feel, and feeling was\n",
              "torment.  He was conscious of motion. Encompassed in a luminous cloud,\n",
              "of which he was now merely the fiery heart, without material\n",
              "substance, he swung through unthinkable arcs of oscillation, like a\n",
              "vast pendulum.  Then all at once, with terrible suddenness, the light\n",
              "about him shot upward with the noise of a loud splash; a frightful\n",
              "roaring was in his ears, and all was cold and dark.  The power of\n",
              "thought was restored; he knew that the rope had broken and he had\n",
              "fallen into the stream.  There was no additional strangulation; the\n",
              "noose about his neck was already suffocating him and kept the water\n",
              "from his lungs.  To die of hanging at the bottom of a river!--the idea\n",
              "seemed to him ludicrous.  He opened his eyes in the darkness and saw\n",
              "above him a gleam of light, but how distant, how inaccessible!  He was\n",
              "still sinking, for the light became fainter and fainter until it was a\n",
              "mere glimmer.  Then it began to grow and brighten, and he knew that he\n",
              "was rising toward the surface--knew it with reluctance, for he was now\n",
              "very comfortable.  \"To be hanged and drowned,\" he thought, \"that is\n",
              "not so bad; but I do not wish to be shot.  No; I will not be shot;\n",
              "that is not fair.\"\n",
              "\n",
              "He was not conscious of an effort, but a sharp pain in his wrist\n",
              "apprised him that he was trying to free his hands.  He gave the\n",
              "struggle his attention, as an idler might observe the feat of a\n",
              "juggler, without interest in the outcome.  What splendid effort!--what\n",
              "magnificent, what superhuman strength!  Ah, that was a fine endeavor!\n",
              "Bravo!  The cord fell away; his arms parted and floated upward, the\n",
              "hands dimly seen on each side in the growing light.  He watched them\n",
              "with a new interest as first one and then the other pounced upon the\n",
              "noose at his neck.  They tore it away and thrust it fiercely aside,\n",
              "its undulations resembling those of a water snake.  \"Put it back, put\n",
              "it back!\"  He thought he shouted these words to his hands, for the\n",
              "undoing of the noose had been succeeded by the direst pang that he had\n",
              "yet experienced.  His neck ached horribly; his brain was on fire, his\n",
              "heart, which had been fluttering faintly, gave a great leap, trying to\n",
              "force itself out at his mouth.  His whole body was racked and wrenched\n",
              "with an insupportable anguish! But his disobedient hands gave no heed\n",
              "to the command.  They beat the water vigorously with quick, downward\n",
              "strokes, forcing him to the surface.  He felt his head emerge; his\n",
              "eyes were blinded by the sunlight; his chest expanded convulsively,\n",
              "and with a supreme and crowning agony his lungs engulfed a great\n",
              "draught of air, which instantly he expelled in a shriek!\n",
              "\n",
              "He was now in full possession of his physical senses.  They were,\n",
              "indeed, preternaturally keen and alert.  Something in the awful\n",
              "disturbance of his organic system had so exalted and refined them that\n",
              "they made record of things never before perceived.  He felt the\n",
              "ripples upon his face and heard their separate sounds as they struck.\n",
              "He looked at the forest on the bank of the stream, saw the individual\n",
              "trees, the leaves and the veining of each leaf--he saw the very\n",
              "insects upon them:  the locusts, the brilliant bodied flies, the gray\n",
              "spiders stretching their webs from twig to twig.  He noted the\n",
              "prismatic colors in all the dewdrops upon a million blades of grass.\n",
              "The humming of the gnats that danced above the eddies of the stream,\n",
              "the beating of the dragon flies' wings, the strokes of the water\n",
              "spiders' legs, like oars which had lifted their boat--all these made\n",
              "audible music.  A fish slid along beneath his eyes and he heard the\n",
              "rush of its body parting the water.\n",
              "\n",
              "He had come to the surface facing down the stream; in a moment the\n",
              "visible world seemed to wheel slowly round, himself the pivotal point,\n",
              "and he saw the bridge, the fort, the soldiers upon the bridge, the\n",
              "captain, the sergeant, the two privates, his executioners.  They were\n",
              "in silhouette against the blue sky.  They shouted and gesticulated,\n",
              "pointing at him.  The captain had drawn his pistol, but did not fire;\n",
              "the others were unarmed.  Their movements were grotesque and horrible,\n",
              "their forms gigantic.\n",
              "\n",
              "Suddenly he heard a sharp report and something struck the water\n",
              "smartly within a few inches of his head, spattering his face with\n",
              "spray.  He heard a second report, and saw one of the sentinels with\n",
              "his rifle at his shoulder, a light cloud of blue smoke rising from the\n",
              "muzzle.  The man in the water saw the eye of the man on the bridge\n",
              "gazing into his own through the sights of the rifle.  He observed that\n",
              "it was a gray eye and remembered having read that gray eyes were\n",
              "keenest, and that all famous marksmen had them. Nevertheless, this one\n",
              "had missed.\n",
              "\n",
              "A counter-swirl had caught Farquhar and turned him half round; he was\n",
              "again looking at the forest on the bank opposite the fort.  The sound\n",
              "of a clear, high voice in a monotonous singsong now rang out behind\n",
              "him and came across the water with a distinctness that pierced and\n",
              "subdued all other sounds, even the beating of the ripples in his ears.\n",
              "Although no soldier, he had frequented camps enough to know the dread\n",
              "significance of that deliberate, drawling, aspirated chant; the\n",
              "lieutenant on shore was taking a part in the morning's work.  How\n",
              "coldly and pitilessly--with what an even, calm intonation, presaging,\n",
              "and enforcing tranquility in the men--with what accurately measured\n",
              "interval fell those cruel words:\n",
              "\n",
              "\"Company! . . . Attention! . . . Shoulder arms! . . . Ready!. . .\n",
              "Aim! . . . Fire!\"\n",
              "\n",
              "Farquhar dived--dived as deeply as he could.  The water roared in his\n",
              "ears like the voice of Niagara, yet he heard the dull thunder of the\n",
              "volley and, rising again toward the surface, met shining bits of\n",
              "metal, singularly flattened, oscillating slowly downward.  Some of\n",
              "them touched him on the face and hands, then fell away, continuing\n",
              "their descent. One lodged between his collar and neck; it was\n",
              "uncomfortably warm and he snatched it out.\n",
              "\n",
              "As he rose to the surface, gasping for breath, he saw that he had been\n",
              "a long time under water; he was perceptibly farther downstream--nearer\n",
              "to safety.  The soldiers had almost finished reloading; the metal\n",
              "ramrods flashed all at once in the sunshine as they were drawn from\n",
              "the barrels, turned in the air, and thrust into their sockets.  The\n",
              "two sentinels fired again, independently and ineffectually.\n",
              "\n",
              "The hunted man saw all this over his shoulder; he was now swimming\n",
              "vigorously with the current.  His brain was as energetic as his arms\n",
              "and legs; he thought with the rapidity of lightning:\n",
              "\n",
              "\"The officer,\" he reasoned, \"will not make that martinet's error a\n",
              "second time.  It is as easy to dodge a volley as a single shot.  He\n",
              "has probably already given the command to fire at will.  God help me,\n",
              "I cannot dodge them all!\"\n",
              "\n",
              "An appalling splash within two yards of him was followed by a loud,\n",
              "rushing sound, DIMINUENDO, which seemed to travel back through the air\n",
              "to the fort and died in an explosion which stirred the very river to\n",
              "its deeps!  A rising sheet of water curved over him, fell down upon\n",
              "him, blinded him, strangled him!  The cannon had taken an hand in the\n",
              "game.  As he shook his head free from the commotion of the smitten\n",
              "water he heard the deflected shot humming through the air ahead, and\n",
              "in an instant it was cracking and smashing the branches in the forest\n",
              "beyond.\n",
              "\n",
              "\"They will not do that again,\" he thought; \"the next time they will\n",
              "use a charge of grape.  I must keep my eye upon the gun; the smoke\n",
              "will apprise me--the report arrives too late; it lags behind the\n",
              "missile.  That is a good gun.\"\n",
              "\n",
              "Suddenly he felt himself whirled round and round--spinning like a top.\n",
              "The water, the banks, the forests, the now distant bridge, fort and\n",
              "men, all were commingled and blurred.  Objects were represented by\n",
              "their colors only; circular horizontal streaks of color--that was all\n",
              "he saw. He had been caught in a vortex and was being whirled on with a\n",
              "velocity of advance and gyration that made him giddy and sick.  In few\n",
              "moments he was flung upon the gravel at the foot of the left bank of\n",
              "the stream--the southern bank--and behind a projecting point which\n",
              "concealed him from his enemies.  The sudden arrest of his motion, the\n",
              "abrasion of one of his hands on the gravel, restored him, and he wept\n",
              "with delight.  He dug his fingers into the sand, threw it over himself\n",
              "in handfuls and audibly blessed it.  It looked like diamonds, rubies,\n",
              "emeralds; he could think of nothing beautiful which it did not\n",
              "resemble.  The trees upon the bank were giant garden plants; he noted\n",
              "a definite order in their arrangement, inhaled the fragrance of their\n",
              "blooms.  A strange roseate light shone through the spaces among their\n",
              "trunks and the wind made in their branches the music of AEolian harps.\n",
              "He had not wish to perfect his escape--he was content to remain in\n",
              "that enchanting spot until retaken.\n",
              "\n",
              "A whiz and a rattle of grapeshot among the branches high above his\n",
              "head roused him from his dream.  The baffled cannoneer had fired him a\n",
              "random farewell.  He sprang to his feet, rushed up the sloping bank,\n",
              "and plunged into the forest.\n",
              "\n",
              "All that day he traveled, laying his course by the rounding sun.  The\n",
              "forest seemed interminable; nowhere did he discover a break in it, not\n",
              "even a woodman's road.  He had not known that he lived in so wild a\n",
              "region.  There was something uncanny in the revelation.\n",
              "\n",
              "By nightfall he was fatigued, footsore, famished.  The thought of his\n",
              "wife and children urged him on.  At last he found a road which led him\n",
              "in what he knew to be the right direction.  It was as wide and\n",
              "straight as a city street, yet it seemed untraveled.  No fields\n",
              "bordered it, no dwelling anywhere.  Not so much as the barking of a\n",
              "dog suggested human habitation.  The black bodies of the trees formed\n",
              "a straight wall on both sides, terminating on the horizon in a point,\n",
              "like a diagram in a lesson in perspective.  Overhead, as he looked up\n",
              "through this rift in the wood, shone great golden stars looking\n",
              "unfamiliar and grouped in strange constellations.  He was sure they\n",
              "were arranged in some order which had a secret and malign\n",
              "significance.  The wood on either side was full of singular noises,\n",
              "among which--once, twice, and again--he distinctly heard whispers in\n",
              "an unknown tongue.\n",
              "\n",
              "His neck was in pain and lifting his hand to it found it horribly\n",
              "swollen.  He knew that it had a circle of black where the rope had\n",
              "bruised it.  His eyes felt congested; he could no longer close them.\n",
              "His tongue was swollen with thirst; he relieved its fever by thrusting\n",
              "it forward from between his teeth into the cold air.  How softly the\n",
              "turf had carpeted the untraveled avenue--he could no longer feel the\n",
              "roadway beneath his feet!\n",
              "\n",
              "Doubtless, despite his suffering, he had fallen asleep while walking,\n",
              "for now he sees another scene--perhaps he has merely recovered from a\n",
              "delirium.  He stands at the gate of his own home.  All is as he left\n",
              "it, and all bright and beautiful in the morning sunshine.  He must\n",
              "have traveled the entire night.  As he pushes open the gate and passes\n",
              "up the wide white walk, he sees a flutter of female garments; his\n",
              "wife, looking fresh and cool and sweet, steps down from the veranda to\n",
              "meet him.  At the bottom of the steps she stands waiting, with a smile\n",
              "of ineffable joy, an attitude of matchless grace and dignity.  Ah, how\n",
              "beautiful she is!  He springs forwards with extended arms.  As he is\n",
              "about to clasp her he feels a stunning blow upon the back of the neck;\n",
              "a blinding white light blazes all about him with a sound like the\n",
              "shock of a cannon--then all is darkness and silence!\n",
              "\n",
              "Peyton Farquhar was dead; his body, with a broken neck, swung gently\n",
              "from side to side beneath the timbers of the Owl Creek bridge.\n"
            ]
          },
          "metadata": {},
          "execution_count": 84
        }
      ]
    },
    {
      "cell_type": "code",
      "source": [
        "foundmatchers = matcher(doc3)"
      ],
      "metadata": {
        "id": "4w30Vbf31txF"
      },
      "execution_count": 85,
      "outputs": []
    },
    {
      "cell_type": "code",
      "source": [
        "print(foundmatchers)"
      ],
      "metadata": {
        "colab": {
          "base_uri": "https://localhost:8080/"
        },
        "id": "f7iQFa7g2aIt",
        "outputId": "03a0134b-a2b1-4cd8-ad56-0f9209b1d8c7"
      },
      "execution_count": 86,
      "outputs": [
        {
          "output_type": "stream",
          "name": "stdout",
          "text": [
            "[(767630355334542925, 1274, 1275), (767630355334542925, 3609, 3610)]\n"
          ]
        }
      ]
    },
    {
      "cell_type": "markdown",
      "source": [
        "Print the text surrounding each match"
      ],
      "metadata": {
        "id": "fEBBKHtg4U-e"
      }
    },
    {
      "cell_type": "code",
      "source": [
        "for match_id, start, end in foundmatchers:\n",
        "    string_id = nlp.vocab.strings[match_id]  # get string representation\n",
        "    span = doc3[start-10:end+15]                    # get the matched span\n",
        "    print(match_id, string_id, start, end, span.text)"
      ],
      "metadata": {
        "colab": {
          "base_uri": "https://localhost:8080/"
        },
        "id": "cr8qZKfe4XWh",
        "outputId": "c0c1638c-5371-40c2-f86e-dd2b69ebd347"
      },
      "execution_count": 87,
      "outputs": [
        {
          "output_type": "stream",
          "name": "stdout",
          "text": [
            "767630355334542925 Swim 1274 1275  By diving I could evade the bullets and, swimming\n",
            "vigorously, reach the bank, take to the woods and get away home\n",
            "767630355334542925 Swim 3609 3610 saw all this over his shoulder; he was now swimming\n",
            "vigorously with the current.  His brain was as energetic as his arms\n"
          ]
        }
      ]
    },
    {
      "cell_type": "code",
      "source": [
        "for sentence in sentcount:\n",
        "  if foundmatchers[0][1] < sentence.end:\n",
        "     print(sentence)\n",
        "     break"
      ],
      "metadata": {
        "colab": {
          "base_uri": "https://localhost:8080/"
        },
        "id": "-iB90-za6HJq",
        "outputId": "77f65e34-08bc-45b6-d328-36848fe993bd"
      },
      "execution_count": 97,
      "outputs": [
        {
          "output_type": "stream",
          "name": "stdout",
          "text": [
            "By diving I could evade the bullets and, swimming\n",
            "vigorously, reach the bank, take to the woods and get away home.  \n"
          ]
        }
      ]
    },
    {
      "cell_type": "code",
      "source": [
        "for sentence in sentcount:\n",
        "  if foundmatchers[1][1] < sentence.end:\n",
        "     print(sentence)\n",
        "     break"
      ],
      "metadata": {
        "colab": {
          "base_uri": "https://localhost:8080/"
        },
        "id": "7lZewTEE714I",
        "outputId": "f751f6ac-26f9-41a2-da11-ab787e17fbcc"
      },
      "execution_count": 91,
      "outputs": [
        {
          "output_type": "stream",
          "name": "stdout",
          "text": [
            "The hunted man saw all this over his shoulder; he was now swimming\n",
            "vigorously with the current.  \n"
          ]
        }
      ]
    }
  ]
}